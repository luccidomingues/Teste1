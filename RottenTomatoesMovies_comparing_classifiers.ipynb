{
  "nbformat": 4,
  "nbformat_minor": 0,
  "metadata": {
    "kernelspec": {
      "display_name": "Python 3",
      "language": "python",
      "name": "python3"
    },
    "language_info": {
      "codemirror_mode": {
        "name": "ipython",
        "version": 3
      },
      "file_extension": ".py",
      "mimetype": "text/x-python",
      "name": "python",
      "nbconvert_exporter": "python",
      "pygments_lexer": "ipython3",
      "version": "3.7.6"
    },
    "colab": {
      "name": "RottenTomatoesMovies_comparing-classifiers.ipynb",
      "provenance": [],
      "collapsed_sections": [],
      "toc_visible": true,
      "include_colab_link": true
    }
  },
  "cells": [
    {
      "cell_type": "markdown",
      "metadata": {
        "id": "view-in-github",
        "colab_type": "text"
      },
      "source": [
        "<a href=\"https://colab.research.google.com/github/luccidomingues/Teste1/blob/main/RottenTomatoesMovies_comparing_classifiers.ipynb\" target=\"_parent\"><img src=\"https://colab.research.google.com/assets/colab-badge.svg\" alt=\"Open In Colab\"/></a>"
      ]
    },
    {
      "cell_type": "markdown",
      "metadata": {
        "id": "C-q6cv_CxZsX"
      },
      "source": [
        "# Comparing Classifiers for Building Classification Models\n",
        "\n",
        "\n",
        "In this Jupyter notebook, we will be comparing the performance of different classifiers for building classification models."
      ]
    },
    {
      "cell_type": "markdown",
      "metadata": {
        "id": "mtJkthFRxZsy"
      },
      "source": [
        "## 1. Import a  dataset"
      ]
    },
    {
      "cell_type": "markdown",
      "metadata": {
        "id": "uE5-Vk9vxZs0"
      },
      "source": [
        "### 1.1. Import library"
      ]
    },
    {
      "cell_type": "code",
      "metadata": {
        "colab": {
          "base_uri": "https://localhost:8080/",
          "height": 1000
        },
        "id": "HwwHTfs-DdXo",
        "outputId": "31a6b1ba-0dce-4de8-d7d8-741bc62ec90b"
      },
      "source": [
        "! pip install lazypredict"
      ],
      "execution_count": 8,
      "outputs": [
        {
          "output_type": "stream",
          "text": [
            "Collecting lazypredict\n",
            "  Downloading https://files.pythonhosted.org/packages/97/38/cadb2b79268c7f82f6b027bf0b2f68750aafc5c70b6e1bc46b357386e07b/lazypredict-0.2.9-py2.py3-none-any.whl\n",
            "Collecting scikit-learn==0.23.1\n",
            "\u001b[?25l  Downloading https://files.pythonhosted.org/packages/b8/7e/74e707b66490d4eb05f702966ad0990881127acecf9d5cdcef3c95ec6c16/scikit_learn-0.23.1-cp37-cp37m-manylinux1_x86_64.whl (6.8MB)\n",
            "\u001b[K     |████████████████████████████████| 6.8MB 4.7MB/s \n",
            "\u001b[?25hCollecting PyYAML==5.3.1\n",
            "\u001b[?25l  Downloading https://files.pythonhosted.org/packages/64/c2/b80047c7ac2478f9501676c988a5411ed5572f35d1beff9cae07d321512c/PyYAML-5.3.1.tar.gz (269kB)\n",
            "\u001b[K     |████████████████████████████████| 276kB 47.9MB/s \n",
            "\u001b[?25hCollecting xgboost==1.1.1\n",
            "\u001b[?25l  Downloading https://files.pythonhosted.org/packages/7c/32/a11befbb003e0e6b7e062a77f010dfcec0ec3589be537b02d2eb2ff93b9a/xgboost-1.1.1-py3-none-manylinux2010_x86_64.whl (127.6MB)\n",
            "\u001b[K     |████████████████████████████████| 127.6MB 39kB/s \n",
            "\u001b[?25hCollecting scipy==1.5.4\n",
            "\u001b[?25l  Downloading https://files.pythonhosted.org/packages/dc/7e/8f6a79b102ca1ea928bae8998b05bf5dc24a90571db13cd119f275ba6252/scipy-1.5.4-cp37-cp37m-manylinux1_x86_64.whl (25.9MB)\n",
            "\u001b[K     |████████████████████████████████| 25.9MB 1.6MB/s \n",
            "\u001b[?25hRequirement already satisfied: six==1.15.0 in /usr/local/lib/python3.7/dist-packages (from lazypredict) (1.15.0)\n",
            "Collecting joblib==1.0.0\n",
            "\u001b[?25l  Downloading https://files.pythonhosted.org/packages/34/5b/bd0f0fb5564183884d8e35b81d06d7ec06a20d1a0c8b4c407f1554691dce/joblib-1.0.0-py3-none-any.whl (302kB)\n",
            "\u001b[K     |████████████████████████████████| 307kB 34.5MB/s \n",
            "\u001b[?25hCollecting tqdm==4.56.0\n",
            "\u001b[?25l  Downloading https://files.pythonhosted.org/packages/80/02/8f8880a4fd6625461833abcf679d4c12a44c76f9925f92bf212bb6cefaad/tqdm-4.56.0-py2.py3-none-any.whl (72kB)\n",
            "\u001b[K     |████████████████████████████████| 81kB 9.1MB/s \n",
            "\u001b[?25hCollecting pandas==1.0.5\n",
            "\u001b[?25l  Downloading https://files.pythonhosted.org/packages/af/f3/683bf2547a3eaeec15b39cef86f61e921b3b187f250fcd2b5c5fb4386369/pandas-1.0.5-cp37-cp37m-manylinux1_x86_64.whl (10.1MB)\n",
            "\u001b[K     |████████████████████████████████| 10.1MB 42.8MB/s \n",
            "\u001b[?25hRequirement already satisfied: click==7.1.2 in /usr/local/lib/python3.7/dist-packages (from lazypredict) (7.1.2)\n",
            "Collecting pytest==5.4.3\n",
            "\u001b[?25l  Downloading https://files.pythonhosted.org/packages/9f/f3/0a83558da436a081344aa6c8b85ea5b5f05071214106036ce341b7769b0b/pytest-5.4.3-py3-none-any.whl (248kB)\n",
            "\u001b[K     |████████████████████████████████| 256kB 56.7MB/s \n",
            "\u001b[?25hCollecting lightgbm==2.3.1\n",
            "\u001b[?25l  Downloading https://files.pythonhosted.org/packages/0b/9d/ddcb2f43aca194987f1a99e27edf41cf9bc39ea750c3371c2a62698c509a/lightgbm-2.3.1-py2.py3-none-manylinux1_x86_64.whl (1.2MB)\n",
            "\u001b[K     |████████████████████████████████| 1.2MB 48.3MB/s \n",
            "\u001b[?25hCollecting numpy==1.19.1\n",
            "\u001b[?25l  Downloading https://files.pythonhosted.org/packages/50/8f/29d5688614f9bba59931683d5d353d738d4a3007833219ee19c455732753/numpy-1.19.1-cp37-cp37m-manylinux2010_x86_64.whl (14.5MB)\n",
            "\u001b[K     |████████████████████████████████| 14.5MB 153kB/s \n",
            "\u001b[?25hCollecting threadpoolctl>=2.0.0\n",
            "  Downloading https://files.pythonhosted.org/packages/f7/12/ec3f2e203afa394a149911729357aa48affc59c20e2c1c8297a60f33f133/threadpoolctl-2.1.0-py3-none-any.whl\n",
            "Requirement already satisfied: python-dateutil>=2.6.1 in /usr/local/lib/python3.7/dist-packages (from pandas==1.0.5->lazypredict) (2.8.1)\n",
            "Requirement already satisfied: pytz>=2017.2 in /usr/local/lib/python3.7/dist-packages (from pandas==1.0.5->lazypredict) (2018.9)\n",
            "Collecting pluggy<1.0,>=0.12\n",
            "  Downloading https://files.pythonhosted.org/packages/a0/28/85c7aa31b80d150b772fbe4a229487bc6644da9ccb7e427dd8cc60cb8a62/pluggy-0.13.1-py2.py3-none-any.whl\n",
            "Requirement already satisfied: wcwidth in /usr/local/lib/python3.7/dist-packages (from pytest==5.4.3->lazypredict) (0.2.5)\n",
            "Requirement already satisfied: py>=1.5.0 in /usr/local/lib/python3.7/dist-packages (from pytest==5.4.3->lazypredict) (1.10.0)\n",
            "Requirement already satisfied: attrs>=17.4.0 in /usr/local/lib/python3.7/dist-packages (from pytest==5.4.3->lazypredict) (20.3.0)\n",
            "Requirement already satisfied: packaging in /usr/local/lib/python3.7/dist-packages (from pytest==5.4.3->lazypredict) (20.9)\n",
            "Requirement already satisfied: more-itertools>=4.0.0 in /usr/local/lib/python3.7/dist-packages (from pytest==5.4.3->lazypredict) (8.7.0)\n",
            "Requirement already satisfied: importlib-metadata>=0.12; python_version < \"3.8\" in /usr/local/lib/python3.7/dist-packages (from pytest==5.4.3->lazypredict) (3.7.2)\n",
            "Requirement already satisfied: pyparsing>=2.0.2 in /usr/local/lib/python3.7/dist-packages (from packaging->pytest==5.4.3->lazypredict) (2.4.7)\n",
            "Requirement already satisfied: typing-extensions>=3.6.4; python_version < \"3.8\" in /usr/local/lib/python3.7/dist-packages (from importlib-metadata>=0.12; python_version < \"3.8\"->pytest==5.4.3->lazypredict) (3.7.4.3)\n",
            "Requirement already satisfied: zipp>=0.5 in /usr/local/lib/python3.7/dist-packages (from importlib-metadata>=0.12; python_version < \"3.8\"->pytest==5.4.3->lazypredict) (3.4.1)\n",
            "Building wheels for collected packages: PyYAML\n",
            "  Building wheel for PyYAML (setup.py) ... \u001b[?25l\u001b[?25hdone\n",
            "  Created wheel for PyYAML: filename=PyYAML-5.3.1-cp37-cp37m-linux_x86_64.whl size=44620 sha256=520d25a46468f5da6e2650c697cde033dcdf2e78f74720d3898ace430dab7419\n",
            "  Stored in directory: /root/.cache/pip/wheels/a7/c1/ea/cf5bd31012e735dc1dfea3131a2d5eae7978b251083d6247bd\n",
            "Successfully built PyYAML\n",
            "\u001b[31mERROR: tensorflow 2.4.1 has requirement numpy~=1.19.2, but you'll have numpy 1.19.1 which is incompatible.\u001b[0m\n",
            "\u001b[31mERROR: google-colab 1.0.0 has requirement pandas~=1.1.0; python_version >= \"3.0\", but you'll have pandas 1.0.5 which is incompatible.\u001b[0m\n",
            "\u001b[31mERROR: datascience 0.10.6 has requirement folium==0.2.1, but you'll have folium 0.8.3 which is incompatible.\u001b[0m\n",
            "\u001b[31mERROR: albumentations 0.1.12 has requirement imgaug<0.2.7,>=0.2.5, but you'll have imgaug 0.2.9 which is incompatible.\u001b[0m\n",
            "Installing collected packages: numpy, scipy, joblib, threadpoolctl, scikit-learn, PyYAML, xgboost, tqdm, pandas, pluggy, pytest, lightgbm, lazypredict\n",
            "  Found existing installation: numpy 1.19.5\n",
            "    Uninstalling numpy-1.19.5:\n",
            "      Successfully uninstalled numpy-1.19.5\n",
            "  Found existing installation: scipy 1.4.1\n",
            "    Uninstalling scipy-1.4.1:\n",
            "      Successfully uninstalled scipy-1.4.1\n",
            "  Found existing installation: joblib 1.0.1\n",
            "    Uninstalling joblib-1.0.1:\n",
            "      Successfully uninstalled joblib-1.0.1\n",
            "  Found existing installation: scikit-learn 0.22.2.post1\n",
            "    Uninstalling scikit-learn-0.22.2.post1:\n",
            "      Successfully uninstalled scikit-learn-0.22.2.post1\n",
            "  Found existing installation: PyYAML 3.13\n",
            "    Uninstalling PyYAML-3.13:\n",
            "      Successfully uninstalled PyYAML-3.13\n",
            "  Found existing installation: xgboost 0.90\n",
            "    Uninstalling xgboost-0.90:\n",
            "      Successfully uninstalled xgboost-0.90\n",
            "  Found existing installation: tqdm 4.41.1\n",
            "    Uninstalling tqdm-4.41.1:\n",
            "      Successfully uninstalled tqdm-4.41.1\n",
            "  Found existing installation: pandas 1.1.5\n",
            "    Uninstalling pandas-1.1.5:\n",
            "      Successfully uninstalled pandas-1.1.5\n",
            "  Found existing installation: pluggy 0.7.1\n",
            "    Uninstalling pluggy-0.7.1:\n",
            "      Successfully uninstalled pluggy-0.7.1\n",
            "  Found existing installation: pytest 3.6.4\n",
            "    Uninstalling pytest-3.6.4:\n",
            "      Successfully uninstalled pytest-3.6.4\n",
            "  Found existing installation: lightgbm 2.2.3\n",
            "    Uninstalling lightgbm-2.2.3:\n",
            "      Successfully uninstalled lightgbm-2.2.3\n",
            "Successfully installed PyYAML-5.3.1 joblib-1.0.0 lazypredict-0.2.9 lightgbm-2.3.1 numpy-1.19.1 pandas-1.0.5 pluggy-0.13.1 pytest-5.4.3 scikit-learn-0.23.1 scipy-1.5.4 threadpoolctl-2.1.0 tqdm-4.56.0 xgboost-1.1.1\n"
          ],
          "name": "stdout"
        },
        {
          "output_type": "display_data",
          "data": {
            "application/vnd.colab-display-data+json": {
              "pip_warning": {
                "packages": [
                  "numpy",
                  "pandas",
                  "tqdm"
                ]
              }
            }
          },
          "metadata": {
            "tags": []
          }
        }
      ]
    },
    {
      "cell_type": "code",
      "metadata": {
        "id": "UDS82sZbxZs2",
        "colab": {
          "base_uri": "https://localhost:8080/",
          "height": 1000
        },
        "outputId": "ef910992-3057-4b59-b282-061a051ebb89"
      },
      "source": [
        "import pandas as pd\r\n",
        "\r\n",
        "projects = 'Rotten Tomatoes Movies.csv'\r\n",
        "dataset = pd.read_csv(projects)\r\n",
        "dataset"
      ],
      "execution_count": 1,
      "outputs": [
        {
          "output_type": "execute_result",
          "data": {
            "text/html": [
              "<div>\n",
              "<style scoped>\n",
              "    .dataframe tbody tr th:only-of-type {\n",
              "        vertical-align: middle;\n",
              "    }\n",
              "\n",
              "    .dataframe tbody tr th {\n",
              "        vertical-align: top;\n",
              "    }\n",
              "\n",
              "    .dataframe thead th {\n",
              "        text-align: right;\n",
              "    }\n",
              "</style>\n",
              "<table border=\"1\" class=\"dataframe\">\n",
              "  <thead>\n",
              "    <tr style=\"text-align: right;\">\n",
              "      <th></th>\n",
              "      <th>movie_title</th>\n",
              "      <th>movie_info</th>\n",
              "      <th>critics_consensus</th>\n",
              "      <th>rating</th>\n",
              "      <th>genre</th>\n",
              "      <th>directors</th>\n",
              "      <th>writers</th>\n",
              "      <th>cast</th>\n",
              "      <th>in_theaters_date</th>\n",
              "      <th>on_streaming_date</th>\n",
              "      <th>runtime_in_minutes</th>\n",
              "      <th>studio_name</th>\n",
              "      <th>tomatometer_status</th>\n",
              "      <th>tomatometer_rating</th>\n",
              "      <th>tomatometer_count</th>\n",
              "      <th>audience_rating</th>\n",
              "      <th>audience_count</th>\n",
              "    </tr>\n",
              "  </thead>\n",
              "  <tbody>\n",
              "    <tr>\n",
              "      <th>0</th>\n",
              "      <td>Percy Jackson &amp; the Olympians: The Lightning T...</td>\n",
              "      <td>A teenager discovers he's the descendant of a ...</td>\n",
              "      <td>Though it may seem like just another Harry Pot...</td>\n",
              "      <td>PG</td>\n",
              "      <td>Action &amp; Adventure, Comedy, Drama, Science Fic...</td>\n",
              "      <td>Chris Columbus</td>\n",
              "      <td>Craig Titley</td>\n",
              "      <td>Logan Lerman, Brandon T. Jackson, Alexandra Da...</td>\n",
              "      <td>2010-02-12</td>\n",
              "      <td>2010-06-29</td>\n",
              "      <td>83.0</td>\n",
              "      <td>20th Century Fox</td>\n",
              "      <td>Rotten</td>\n",
              "      <td>49</td>\n",
              "      <td>144</td>\n",
              "      <td>53.0</td>\n",
              "      <td>254287.0</td>\n",
              "    </tr>\n",
              "    <tr>\n",
              "      <th>1</th>\n",
              "      <td>Please Give</td>\n",
              "      <td>Kate has a lot on her mind. There's the ethics...</td>\n",
              "      <td>Nicole Holofcener's newest might seem slight i...</td>\n",
              "      <td>R</td>\n",
              "      <td>Comedy</td>\n",
              "      <td>Nicole Holofcener</td>\n",
              "      <td>Nicole Holofcener</td>\n",
              "      <td>Catherine Keener, Amanda Peet, Oliver Platt, R...</td>\n",
              "      <td>2010-04-30</td>\n",
              "      <td>2010-10-19</td>\n",
              "      <td>90.0</td>\n",
              "      <td>Sony Pictures Classics</td>\n",
              "      <td>Certified Fresh</td>\n",
              "      <td>86</td>\n",
              "      <td>140</td>\n",
              "      <td>64.0</td>\n",
              "      <td>11567.0</td>\n",
              "    </tr>\n",
              "    <tr>\n",
              "      <th>2</th>\n",
              "      <td>10</td>\n",
              "      <td>Blake Edwards' 10 stars Dudley Moore as George...</td>\n",
              "      <td>NaN</td>\n",
              "      <td>R</td>\n",
              "      <td>Comedy, Romance</td>\n",
              "      <td>Blake Edwards</td>\n",
              "      <td>Blake Edwards</td>\n",
              "      <td>Dudley Moore, Bo Derek, Julie Andrews, Robert ...</td>\n",
              "      <td>1979-10-05</td>\n",
              "      <td>1997-08-27</td>\n",
              "      <td>118.0</td>\n",
              "      <td>Waner Bros.</td>\n",
              "      <td>Fresh</td>\n",
              "      <td>68</td>\n",
              "      <td>22</td>\n",
              "      <td>53.0</td>\n",
              "      <td>14670.0</td>\n",
              "    </tr>\n",
              "    <tr>\n",
              "      <th>3</th>\n",
              "      <td>12 Angry Men (Twelve Angry Men)</td>\n",
              "      <td>A Puerto Rican youth is on trial for murder, a...</td>\n",
              "      <td>Sidney Lumet's feature debut is a superbly wri...</td>\n",
              "      <td>NR</td>\n",
              "      <td>Classics, Drama</td>\n",
              "      <td>Sidney Lumet</td>\n",
              "      <td>Reginald Rose</td>\n",
              "      <td>Martin Balsam, John Fiedler, Lee J. Cobb, E.G....</td>\n",
              "      <td>1957-04-13</td>\n",
              "      <td>2001-03-06</td>\n",
              "      <td>95.0</td>\n",
              "      <td>Criterion Collection</td>\n",
              "      <td>Certified Fresh</td>\n",
              "      <td>100</td>\n",
              "      <td>51</td>\n",
              "      <td>97.0</td>\n",
              "      <td>105000.0</td>\n",
              "    </tr>\n",
              "    <tr>\n",
              "      <th>4</th>\n",
              "      <td>20,000 Leagues Under The Sea</td>\n",
              "      <td>This 1954 Disney version of Jules Verne's 20,0...</td>\n",
              "      <td>One of Disney's finest live-action adventures,...</td>\n",
              "      <td>G</td>\n",
              "      <td>Action &amp; Adventure, Drama, Kids &amp; Family</td>\n",
              "      <td>Richard Fleischer</td>\n",
              "      <td>Earl Felton</td>\n",
              "      <td>James Mason, Kirk Douglas, Paul Lukas, Peter L...</td>\n",
              "      <td>1954-01-01</td>\n",
              "      <td>2003-05-20</td>\n",
              "      <td>127.0</td>\n",
              "      <td>Disney</td>\n",
              "      <td>Fresh</td>\n",
              "      <td>89</td>\n",
              "      <td>27</td>\n",
              "      <td>74.0</td>\n",
              "      <td>68860.0</td>\n",
              "    </tr>\n",
              "    <tr>\n",
              "      <th>...</th>\n",
              "      <td>...</td>\n",
              "      <td>...</td>\n",
              "      <td>...</td>\n",
              "      <td>...</td>\n",
              "      <td>...</td>\n",
              "      <td>...</td>\n",
              "      <td>...</td>\n",
              "      <td>...</td>\n",
              "      <td>...</td>\n",
              "      <td>...</td>\n",
              "      <td>...</td>\n",
              "      <td>...</td>\n",
              "      <td>...</td>\n",
              "      <td>...</td>\n",
              "      <td>...</td>\n",
              "      <td>...</td>\n",
              "      <td>...</td>\n",
              "    </tr>\n",
              "    <tr>\n",
              "      <th>16633</th>\n",
              "      <td>Zoot Suit</td>\n",
              "      <td>Based on a 1940s Los Angeles murder trial, thi...</td>\n",
              "      <td>NaN</td>\n",
              "      <td>R</td>\n",
              "      <td>Drama, Musical &amp; Performing Arts</td>\n",
              "      <td>Luis Valdez</td>\n",
              "      <td>Luis Valdez</td>\n",
              "      <td>Daniel Valdez, Edward James Olmos, Charles Aid...</td>\n",
              "      <td>1981-10-02</td>\n",
              "      <td>2003-05-27</td>\n",
              "      <td>104.0</td>\n",
              "      <td>MCA Universal Home Video</td>\n",
              "      <td>Rotten</td>\n",
              "      <td>56</td>\n",
              "      <td>9</td>\n",
              "      <td>74.0</td>\n",
              "      <td>1192.0</td>\n",
              "    </tr>\n",
              "    <tr>\n",
              "      <th>16634</th>\n",
              "      <td>Zootopia</td>\n",
              "      <td>The modern mammal metropolis of Zootopia is a ...</td>\n",
              "      <td>The brilliantly well-rounded Zootopia offers a...</td>\n",
              "      <td>PG</td>\n",
              "      <td>Action &amp; Adventure, Animation, Comedy</td>\n",
              "      <td>Byron Howard, Rich Moore, Jared Bush</td>\n",
              "      <td>Jared Bush, Phil Johnston</td>\n",
              "      <td>Ginnifer Goodwin, Jason Bateman, Idris Elba, J...</td>\n",
              "      <td>2016-03-04</td>\n",
              "      <td>2016-06-07</td>\n",
              "      <td>108.0</td>\n",
              "      <td>Walt Disney Animation Studios</td>\n",
              "      <td>Certified Fresh</td>\n",
              "      <td>97</td>\n",
              "      <td>279</td>\n",
              "      <td>92.0</td>\n",
              "      <td>100946.0</td>\n",
              "    </tr>\n",
              "    <tr>\n",
              "      <th>16635</th>\n",
              "      <td>Zorba the Greek</td>\n",
              "      <td>If ever there was a role that Anthony Quinn wa...</td>\n",
              "      <td>NaN</td>\n",
              "      <td>NR</td>\n",
              "      <td>Action &amp; Adventure, Art House &amp; International,...</td>\n",
              "      <td>NaN</td>\n",
              "      <td>NaN</td>\n",
              "      <td>Anthony Quinn, Alan Bates, Irene Papas, Lila K...</td>\n",
              "      <td>1964-12-17</td>\n",
              "      <td>2004-08-03</td>\n",
              "      <td>142.0</td>\n",
              "      <td>Fox</td>\n",
              "      <td>Fresh</td>\n",
              "      <td>78</td>\n",
              "      <td>9</td>\n",
              "      <td>87.0</td>\n",
              "      <td>7126.0</td>\n",
              "    </tr>\n",
              "    <tr>\n",
              "      <th>16636</th>\n",
              "      <td>Zulu</td>\n",
              "      <td>Filmed on a grand scale, Zulu is a rousing rec...</td>\n",
              "      <td>NaN</td>\n",
              "      <td>PG</td>\n",
              "      <td>Classics, Drama</td>\n",
              "      <td>Cy Endfield, Cyril Endfield</td>\n",
              "      <td>Cy Endfield, John Prebble</td>\n",
              "      <td>Stanley Baker, Jack Hawkins, Ulla Jacobsson, J...</td>\n",
              "      <td>1964-06-17</td>\n",
              "      <td>2001-02-02</td>\n",
              "      <td>139.0</td>\n",
              "      <td>Paramount Pictures</td>\n",
              "      <td>Fresh</td>\n",
              "      <td>95</td>\n",
              "      <td>21</td>\n",
              "      <td>91.0</td>\n",
              "      <td>30170.0</td>\n",
              "    </tr>\n",
              "    <tr>\n",
              "      <th>16637</th>\n",
              "      <td>Zulu Dawn</td>\n",
              "      <td>A prequel to Zulu, Zulu Dawn depicts the event...</td>\n",
              "      <td>NaN</td>\n",
              "      <td>PG</td>\n",
              "      <td>Action &amp; Adventure, Art House &amp; International,...</td>\n",
              "      <td>Douglas Hickox</td>\n",
              "      <td>Cy Endfield, Anthony Storey</td>\n",
              "      <td>Burt Lancaster, Peter O'Toole, Simon Ward, Joh...</td>\n",
              "      <td>1979-12-14</td>\n",
              "      <td>2005-09-27</td>\n",
              "      <td>117.0</td>\n",
              "      <td>Tango Entertainment</td>\n",
              "      <td>Rotten</td>\n",
              "      <td>57</td>\n",
              "      <td>7</td>\n",
              "      <td>62.0</td>\n",
              "      <td>4464.0</td>\n",
              "    </tr>\n",
              "  </tbody>\n",
              "</table>\n",
              "<p>16638 rows × 17 columns</p>\n",
              "</div>"
            ],
            "text/plain": [
              "                                             movie_title  ... audience_count\n",
              "0      Percy Jackson & the Olympians: The Lightning T...  ...       254287.0\n",
              "1                                            Please Give  ...        11567.0\n",
              "2                                                     10  ...        14670.0\n",
              "3                        12 Angry Men (Twelve Angry Men)  ...       105000.0\n",
              "4                           20,000 Leagues Under The Sea  ...        68860.0\n",
              "...                                                  ...  ...            ...\n",
              "16633                                          Zoot Suit  ...         1192.0\n",
              "16634                                           Zootopia  ...       100946.0\n",
              "16635                                    Zorba the Greek  ...         7126.0\n",
              "16636                                               Zulu  ...        30170.0\n",
              "16637                                          Zulu Dawn  ...         4464.0\n",
              "\n",
              "[16638 rows x 17 columns]"
            ]
          },
          "metadata": {
            "tags": []
          },
          "execution_count": 1
        }
      ]
    },
    {
      "cell_type": "code",
      "metadata": {
        "colab": {
          "base_uri": "https://localhost:8080/"
        },
        "id": "mnE4SgxrBhwv",
        "outputId": "fb8c5966-bdba-4b01-f574-f55773548923"
      },
      "source": [
        "dataset.info()"
      ],
      "execution_count": 2,
      "outputs": [
        {
          "output_type": "stream",
          "text": [
            "<class 'pandas.core.frame.DataFrame'>\n",
            "RangeIndex: 16638 entries, 0 to 16637\n",
            "Data columns (total 17 columns):\n",
            " #   Column              Non-Null Count  Dtype  \n",
            "---  ------              --------------  -----  \n",
            " 0   movie_title         16638 non-null  object \n",
            " 1   movie_info          16614 non-null  object \n",
            " 2   critics_consensus   8309 non-null   object \n",
            " 3   rating              16638 non-null  object \n",
            " 4   genre               16621 non-null  object \n",
            " 5   directors           16524 non-null  object \n",
            " 6   writers             15289 non-null  object \n",
            " 7   cast                16354 non-null  object \n",
            " 8   in_theaters_date    15823 non-null  object \n",
            " 9   on_streaming_date   16636 non-null  object \n",
            " 10  runtime_in_minutes  16483 non-null  float64\n",
            " 11  studio_name         16222 non-null  object \n",
            " 12  tomatometer_status  16638 non-null  object \n",
            " 13  tomatometer_rating  16638 non-null  int64  \n",
            " 14  tomatometer_count   16638 non-null  int64  \n",
            " 15  audience_rating     16386 non-null  float64\n",
            " 16  audience_count      16386 non-null  float64\n",
            "dtypes: float64(3), int64(2), object(12)\n",
            "memory usage: 2.2+ MB\n"
          ],
          "name": "stdout"
        }
      ]
    },
    {
      "cell_type": "code",
      "metadata": {
        "id": "G_l9bEDx2_5V"
      },
      "source": [
        "# X = dataset.drop(['unfinished'], axis=1)\r\n",
        "\r\n",
        "X = dataset.iloc[:,[10,13,14,15,16]]\r\n"
      ],
      "execution_count": 30,
      "outputs": []
    },
    {
      "cell_type": "code",
      "metadata": {
        "colab": {
          "base_uri": "https://localhost:8080/"
        },
        "id": "gbRFpropE6be",
        "outputId": "7d6741f0-4fba-45c9-96b7-807341a64e95"
      },
      "source": [
        "X.isnull().sum()"
      ],
      "execution_count": 31,
      "outputs": [
        {
          "output_type": "execute_result",
          "data": {
            "text/plain": [
              "runtime_in_minutes    155\n",
              "tomatometer_rating      0\n",
              "tomatometer_count       0\n",
              "audience_rating       252\n",
              "audience_count        252\n",
              "dtype: int64"
            ]
          },
          "metadata": {
            "tags": []
          },
          "execution_count": 31
        }
      ]
    },
    {
      "cell_type": "code",
      "metadata": {
        "colab": {
          "base_uri": "https://localhost:8080/"
        },
        "id": "scJuz2ZKFBjP",
        "outputId": "be51ec41-583a-4693-c6c5-0a8f6ae8c374"
      },
      "source": [
        "X.dropna(inplace=True)\r\n",
        "X.isnull().sum()\r\n"
      ],
      "execution_count": 32,
      "outputs": [
        {
          "output_type": "stream",
          "text": [
            "/usr/local/lib/python3.7/dist-packages/ipykernel_launcher.py:1: SettingWithCopyWarning: \n",
            "A value is trying to be set on a copy of a slice from a DataFrame\n",
            "\n",
            "See the caveats in the documentation: https://pandas.pydata.org/pandas-docs/stable/user_guide/indexing.html#returning-a-view-versus-a-copy\n",
            "  \"\"\"Entry point for launching an IPython kernel.\n"
          ],
          "name": "stderr"
        },
        {
          "output_type": "execute_result",
          "data": {
            "text/plain": [
              "runtime_in_minutes    0\n",
              "tomatometer_rating    0\n",
              "tomatometer_count     0\n",
              "audience_rating       0\n",
              "audience_count        0\n",
              "dtype: int64"
            ]
          },
          "metadata": {
            "tags": []
          },
          "execution_count": 32
        }
      ]
    },
    {
      "cell_type": "code",
      "metadata": {
        "colab": {
          "base_uri": "https://localhost:8080/",
          "height": 419
        },
        "id": "vZusUX0HGGHY",
        "outputId": "4b67ba4e-4a4b-4921-aaaa-db31eaccd9bf"
      },
      "source": [
        "X = X.drop(['audience_rating'], axis=1)\r\n",
        "Y = X.iloc[:,3]\r\n",
        "X"
      ],
      "execution_count": 33,
      "outputs": [
        {
          "output_type": "execute_result",
          "data": {
            "text/html": [
              "<div>\n",
              "<style scoped>\n",
              "    .dataframe tbody tr th:only-of-type {\n",
              "        vertical-align: middle;\n",
              "    }\n",
              "\n",
              "    .dataframe tbody tr th {\n",
              "        vertical-align: top;\n",
              "    }\n",
              "\n",
              "    .dataframe thead th {\n",
              "        text-align: right;\n",
              "    }\n",
              "</style>\n",
              "<table border=\"1\" class=\"dataframe\">\n",
              "  <thead>\n",
              "    <tr style=\"text-align: right;\">\n",
              "      <th></th>\n",
              "      <th>runtime_in_minutes</th>\n",
              "      <th>tomatometer_rating</th>\n",
              "      <th>tomatometer_count</th>\n",
              "      <th>audience_count</th>\n",
              "    </tr>\n",
              "  </thead>\n",
              "  <tbody>\n",
              "    <tr>\n",
              "      <th>0</th>\n",
              "      <td>83.0</td>\n",
              "      <td>49</td>\n",
              "      <td>144</td>\n",
              "      <td>254287.0</td>\n",
              "    </tr>\n",
              "    <tr>\n",
              "      <th>1</th>\n",
              "      <td>90.0</td>\n",
              "      <td>86</td>\n",
              "      <td>140</td>\n",
              "      <td>11567.0</td>\n",
              "    </tr>\n",
              "    <tr>\n",
              "      <th>2</th>\n",
              "      <td>118.0</td>\n",
              "      <td>68</td>\n",
              "      <td>22</td>\n",
              "      <td>14670.0</td>\n",
              "    </tr>\n",
              "    <tr>\n",
              "      <th>3</th>\n",
              "      <td>95.0</td>\n",
              "      <td>100</td>\n",
              "      <td>51</td>\n",
              "      <td>105000.0</td>\n",
              "    </tr>\n",
              "    <tr>\n",
              "      <th>4</th>\n",
              "      <td>127.0</td>\n",
              "      <td>89</td>\n",
              "      <td>27</td>\n",
              "      <td>68860.0</td>\n",
              "    </tr>\n",
              "    <tr>\n",
              "      <th>...</th>\n",
              "      <td>...</td>\n",
              "      <td>...</td>\n",
              "      <td>...</td>\n",
              "      <td>...</td>\n",
              "    </tr>\n",
              "    <tr>\n",
              "      <th>16633</th>\n",
              "      <td>104.0</td>\n",
              "      <td>56</td>\n",
              "      <td>9</td>\n",
              "      <td>1192.0</td>\n",
              "    </tr>\n",
              "    <tr>\n",
              "      <th>16634</th>\n",
              "      <td>108.0</td>\n",
              "      <td>97</td>\n",
              "      <td>279</td>\n",
              "      <td>100946.0</td>\n",
              "    </tr>\n",
              "    <tr>\n",
              "      <th>16635</th>\n",
              "      <td>142.0</td>\n",
              "      <td>78</td>\n",
              "      <td>9</td>\n",
              "      <td>7126.0</td>\n",
              "    </tr>\n",
              "    <tr>\n",
              "      <th>16636</th>\n",
              "      <td>139.0</td>\n",
              "      <td>95</td>\n",
              "      <td>21</td>\n",
              "      <td>30170.0</td>\n",
              "    </tr>\n",
              "    <tr>\n",
              "      <th>16637</th>\n",
              "      <td>117.0</td>\n",
              "      <td>57</td>\n",
              "      <td>7</td>\n",
              "      <td>4464.0</td>\n",
              "    </tr>\n",
              "  </tbody>\n",
              "</table>\n",
              "<p>16239 rows × 4 columns</p>\n",
              "</div>"
            ],
            "text/plain": [
              "       runtime_in_minutes  ...  audience_count\n",
              "0                    83.0  ...        254287.0\n",
              "1                    90.0  ...         11567.0\n",
              "2                   118.0  ...         14670.0\n",
              "3                    95.0  ...        105000.0\n",
              "4                   127.0  ...         68860.0\n",
              "...                   ...  ...             ...\n",
              "16633               104.0  ...          1192.0\n",
              "16634               108.0  ...        100946.0\n",
              "16635               142.0  ...          7126.0\n",
              "16636               139.0  ...         30170.0\n",
              "16637               117.0  ...          4464.0\n",
              "\n",
              "[16239 rows x 4 columns]"
            ]
          },
          "metadata": {
            "tags": []
          },
          "execution_count": 33
        }
      ]
    },
    {
      "cell_type": "markdown",
      "metadata": {
        "id": "xkEHJhcwxZs7"
      },
      "source": [
        "### 1.2. Let's examine the data dimension"
      ]
    },
    {
      "cell_type": "code",
      "metadata": {
        "id": "cn3fSiSrxZs9",
        "colab": {
          "base_uri": "https://localhost:8080/"
        },
        "outputId": "c8f7a034-d0aa-434f-8f78-ba8b156fb113"
      },
      "source": [
        "X.shape"
      ],
      "execution_count": 34,
      "outputs": [
        {
          "output_type": "execute_result",
          "data": {
            "text/plain": [
              "(16239, 4)"
            ]
          },
          "metadata": {
            "tags": []
          },
          "execution_count": 34
        }
      ]
    },
    {
      "cell_type": "code",
      "metadata": {
        "id": "ZHRc_rp4xZtB",
        "colab": {
          "base_uri": "https://localhost:8080/"
        },
        "outputId": "be1c185e-5065-468c-c990-a48ce88a72a7"
      },
      "source": [
        "Y.shape"
      ],
      "execution_count": 35,
      "outputs": [
        {
          "output_type": "execute_result",
          "data": {
            "text/plain": [
              "(16239,)"
            ]
          },
          "metadata": {
            "tags": []
          },
          "execution_count": 35
        }
      ]
    },
    {
      "cell_type": "markdown",
      "metadata": {
        "id": "4gOajc2uxZtC"
      },
      "source": [
        "## 2. Data split (80/20 ratio)"
      ]
    },
    {
      "cell_type": "markdown",
      "metadata": {
        "id": "D6ylnp-lxZtE"
      },
      "source": [
        "### 2.1. Import library"
      ]
    },
    {
      "cell_type": "code",
      "metadata": {
        "id": "PtETzA9uxZtF"
      },
      "source": [
        "from sklearn.model_selection import train_test_split"
      ],
      "execution_count": 36,
      "outputs": []
    },
    {
      "cell_type": "markdown",
      "metadata": {
        "id": "gsYzCa1KxZtG"
      },
      "source": [
        "### 2.2. Data split"
      ]
    },
    {
      "cell_type": "code",
      "metadata": {
        "id": "fLquuIhexZtH"
      },
      "source": [
        "X_train, X_test, Y_train, Y_test = train_test_split(X, Y, test_size=0.2)\r\n",
        "\r\n"
      ],
      "execution_count": null,
      "outputs": []
    },
    {
      "cell_type": "markdown",
      "metadata": {
        "id": "6k_UG0JtxZtI"
      },
      "source": [
        "### 2.3. Let's examine the data dimension"
      ]
    },
    {
      "cell_type": "code",
      "metadata": {
        "id": "kqL_Mv8HxZtJ",
        "colab": {
          "base_uri": "https://localhost:8080/"
        },
        "outputId": "e2d6a230-04a7-4e2d-a659-2995441a7f84"
      },
      "source": [
        "X_train.shape, Y_train.shape"
      ],
      "execution_count": null,
      "outputs": [
        {
          "output_type": "execute_result",
          "data": {
            "text/plain": [
              "((1725, 2), (1725,))"
            ]
          },
          "metadata": {
            "tags": []
          },
          "execution_count": 10
        }
      ]
    },
    {
      "cell_type": "code",
      "metadata": {
        "id": "9IGhJJT6xZtM",
        "colab": {
          "base_uri": "https://localhost:8080/"
        },
        "outputId": "db5c3b79-328e-4810-8f0d-108071db596e"
      },
      "source": [
        "X_test.shape, Y_test.shape"
      ],
      "execution_count": null,
      "outputs": [
        {
          "output_type": "execute_result",
          "data": {
            "text/plain": [
              "((432, 2), (432,))"
            ]
          },
          "metadata": {
            "tags": []
          },
          "execution_count": 11
        }
      ]
    },
    {
      "cell_type": "markdown",
      "metadata": {
        "id": "rgWTmsRSxZtO"
      },
      "source": [
        "## 3. Build Classification Models\n",
        "\n",
        "Modified from: https://scikit-learn.org/stable/auto_examples/classification/plot_classifier_comparison.html"
      ]
    },
    {
      "cell_type": "markdown",
      "metadata": {
        "id": "9ujxaH5WxZtP"
      },
      "source": [
        "### 3.1. Import modules"
      ]
    },
    {
      "cell_type": "markdown",
      "metadata": {
        "id": "5WnHP8RIxZtR"
      },
      "source": [
        "### 3.2. Defining learning classifiers"
      ]
    },
    {
      "cell_type": "markdown",
      "metadata": {
        "id": "SOAy_DPjxZtV"
      },
      "source": [
        "### 3.3. Build Model, Apply Model on Test Data & Record Accuracy Scores"
      ]
    },
    {
      "cell_type": "code",
      "metadata": {
        "colab": {
          "base_uri": "https://localhost:8080/",
          "height": 1000
        },
        "id": "pTQcr8bRHbfH",
        "outputId": "8eafd55d-e3f3-4be0-d0cd-3971b277d451"
      },
      "source": [
        "# Import libraries\r\n",
        "from lazypredict.Supervised import LazyRegressor\r\n",
        "from sklearn import datasets\r\n",
        "from sklearn.utils import shuffle\r\n",
        "import numpy as np\r\n",
        "from sklearn.model_selection import train_test_split\r\n",
        "\r\n",
        "\r\n",
        "# Original load and split\r\n",
        "# -----------------------\r\n",
        "# Load dataset\r\n",
        "# boston = datasets.load_boston()\r\n",
        "# X, y = shuffle(boston.data, boston.target, random_state=42)\r\n",
        "\r\n",
        "# Data split\r\n",
        "# X_train, X_test, y_train, y_test = train_test_split(X, y,test_size=.2,random_state =42)\r\n",
        "# -----------------------\r\n",
        "\r\n",
        "\r\n",
        "# Data split\r\n",
        "X_train, X_test, Y_train, Y_test = train_test_split(X, Y, test_size=0.2, random_state=0)\r\n",
        "\r\n",
        "\r\n",
        "# Defines and builds the lazyclassifier\r\n",
        "reg = LazyRegressor(verbose=0,ignore_warnings=False, custom_metric=None)\r\n",
        "models_train,predictions_train = reg.fit(X_train, X_train, Y_train, Y_train)\r\n",
        "models_test,predictions_test = reg.fit(X_train, X_test, Y_train, Y_test)\r\n",
        "\r\n",
        "# Prints the model performance\r\n",
        "models_train"
      ],
      "execution_count": 37,
      "outputs": [
        {
          "output_type": "stream",
          "text": [
            "/usr/local/lib/python3.7/dist-packages/sklearn/utils/deprecation.py:143: FutureWarning: The sklearn.utils.testing module is  deprecated in version 0.22 and will be removed in version 0.24. The corresponding classes / functions should instead be imported from sklearn.utils. Anything that cannot be imported from sklearn.utils is now part of the private API.\n",
            "  warnings.warn(message, FutureWarning)\n",
            "100%|██████████| 42/42 [02:36<00:00,  3.72s/it]\n",
            "100%|██████████| 42/42 [00:00<00:00, 18615.74it/s]"
          ],
          "name": "stderr"
        },
        {
          "output_type": "stream",
          "text": [
            "tuple model failed to execute\n",
            "'tuple' object is not callable\n",
            "tuple model failed to execute\n",
            "'tuple' object is not callable\n",
            "tuple model failed to execute\n",
            "'tuple' object is not callable\n",
            "tuple model failed to execute\n",
            "'tuple' object is not callable\n",
            "tuple model failed to execute\n",
            "'tuple' object is not callable\n",
            "tuple model failed to execute\n",
            "'tuple' object is not callable\n",
            "tuple model failed to execute\n",
            "'tuple' object is not callable\n",
            "tuple model failed to execute\n",
            "'tuple' object is not callable\n",
            "tuple model failed to execute\n",
            "'tuple' object is not callable\n",
            "tuple model failed to execute\n",
            "'tuple' object is not callable\n",
            "tuple model failed to execute\n",
            "'tuple' object is not callable\n",
            "tuple model failed to execute\n",
            "'tuple' object is not callable\n",
            "tuple model failed to execute\n",
            "'tuple' object is not callable\n",
            "tuple model failed to execute\n",
            "'tuple' object is not callable\n",
            "tuple model failed to execute\n",
            "'tuple' object is not callable\n",
            "tuple model failed to execute\n",
            "'tuple' object is not callable\n",
            "tuple model failed to execute\n",
            "'tuple' object is not callable\n",
            "tuple model failed to execute\n",
            "'tuple' object is not callable\n",
            "tuple model failed to execute\n",
            "'tuple' object is not callable\n",
            "tuple model failed to execute\n",
            "'tuple' object is not callable\n",
            "tuple model failed to execute\n",
            "'tuple' object is not callable\n",
            "tuple model failed to execute\n",
            "'tuple' object is not callable\n",
            "tuple model failed to execute\n",
            "'tuple' object is not callable\n",
            "tuple model failed to execute\n",
            "'tuple' object is not callable\n",
            "tuple model failed to execute\n",
            "'tuple' object is not callable\n",
            "tuple model failed to execute\n",
            "'tuple' object is not callable\n",
            "tuple model failed to execute\n",
            "'tuple' object is not callable\n",
            "tuple model failed to execute\n",
            "'tuple' object is not callable\n",
            "tuple model failed to execute\n",
            "'tuple' object is not callable\n",
            "tuple model failed to execute\n",
            "'tuple' object is not callable\n",
            "tuple model failed to execute\n",
            "'tuple' object is not callable\n",
            "tuple model failed to execute\n",
            "'tuple' object is not callable\n",
            "tuple model failed to execute\n",
            "'tuple' object is not callable\n",
            "tuple model failed to execute\n",
            "'tuple' object is not callable\n",
            "tuple model failed to execute\n",
            "'tuple' object is not callable\n",
            "tuple model failed to execute\n",
            "'tuple' object is not callable\n",
            "tuple model failed to execute\n",
            "'tuple' object is not callable\n",
            "tuple model failed to execute\n",
            "'tuple' object is not callable\n",
            "tuple model failed to execute\n",
            "'tuple' object is not callable\n",
            "tuple model failed to execute\n",
            "'tuple' object is not callable\n",
            "tuple model failed to execute\n",
            "'tuple' object is not callable\n",
            "tuple model failed to execute\n",
            "'tuple' object is not callable\n"
          ],
          "name": "stdout"
        },
        {
          "output_type": "stream",
          "text": [
            "\n"
          ],
          "name": "stderr"
        },
        {
          "output_type": "execute_result",
          "data": {
            "text/html": [
              "<div>\n",
              "<style scoped>\n",
              "    .dataframe tbody tr th:only-of-type {\n",
              "        vertical-align: middle;\n",
              "    }\n",
              "\n",
              "    .dataframe tbody tr th {\n",
              "        vertical-align: top;\n",
              "    }\n",
              "\n",
              "    .dataframe thead th {\n",
              "        text-align: right;\n",
              "    }\n",
              "</style>\n",
              "<table border=\"1\" class=\"dataframe\">\n",
              "  <thead>\n",
              "    <tr style=\"text-align: right;\">\n",
              "      <th></th>\n",
              "      <th>Adjusted R-Squared</th>\n",
              "      <th>R-Squared</th>\n",
              "      <th>RMSE</th>\n",
              "      <th>Time Taken</th>\n",
              "    </tr>\n",
              "    <tr>\n",
              "      <th>Model</th>\n",
              "      <th></th>\n",
              "      <th></th>\n",
              "      <th></th>\n",
              "      <th></th>\n",
              "    </tr>\n",
              "  </thead>\n",
              "  <tbody>\n",
              "    <tr>\n",
              "      <th>LinearRegression</th>\n",
              "      <td>1.00</td>\n",
              "      <td>1.00</td>\n",
              "      <td>0.00</td>\n",
              "      <td>0.03</td>\n",
              "    </tr>\n",
              "    <tr>\n",
              "      <th>ExtraTreeRegressor</th>\n",
              "      <td>1.00</td>\n",
              "      <td>1.00</td>\n",
              "      <td>0.00</td>\n",
              "      <td>0.05</td>\n",
              "    </tr>\n",
              "    <tr>\n",
              "      <th>RANSACRegressor</th>\n",
              "      <td>1.00</td>\n",
              "      <td>1.00</td>\n",
              "      <td>0.00</td>\n",
              "      <td>0.03</td>\n",
              "    </tr>\n",
              "    <tr>\n",
              "      <th>HuberRegressor</th>\n",
              "      <td>1.00</td>\n",
              "      <td>1.00</td>\n",
              "      <td>0.00</td>\n",
              "      <td>0.43</td>\n",
              "    </tr>\n",
              "    <tr>\n",
              "      <th>LarsCV</th>\n",
              "      <td>1.00</td>\n",
              "      <td>1.00</td>\n",
              "      <td>0.00</td>\n",
              "      <td>0.04</td>\n",
              "    </tr>\n",
              "    <tr>\n",
              "      <th>OrthogonalMatchingPursuit</th>\n",
              "      <td>1.00</td>\n",
              "      <td>1.00</td>\n",
              "      <td>0.00</td>\n",
              "      <td>0.02</td>\n",
              "    </tr>\n",
              "    <tr>\n",
              "      <th>Lars</th>\n",
              "      <td>1.00</td>\n",
              "      <td>1.00</td>\n",
              "      <td>0.00</td>\n",
              "      <td>0.03</td>\n",
              "    </tr>\n",
              "    <tr>\n",
              "      <th>ExtraTreesRegressor</th>\n",
              "      <td>1.00</td>\n",
              "      <td>1.00</td>\n",
              "      <td>0.00</td>\n",
              "      <td>2.51</td>\n",
              "    </tr>\n",
              "    <tr>\n",
              "      <th>LassoLarsCV</th>\n",
              "      <td>1.00</td>\n",
              "      <td>1.00</td>\n",
              "      <td>0.00</td>\n",
              "      <td>0.04</td>\n",
              "    </tr>\n",
              "    <tr>\n",
              "      <th>TransformedTargetRegressor</th>\n",
              "      <td>1.00</td>\n",
              "      <td>1.00</td>\n",
              "      <td>0.00</td>\n",
              "      <td>0.02</td>\n",
              "    </tr>\n",
              "    <tr>\n",
              "      <th>LassoLarsIC</th>\n",
              "      <td>1.00</td>\n",
              "      <td>1.00</td>\n",
              "      <td>0.00</td>\n",
              "      <td>0.03</td>\n",
              "    </tr>\n",
              "    <tr>\n",
              "      <th>DecisionTreeRegressor</th>\n",
              "      <td>1.00</td>\n",
              "      <td>1.00</td>\n",
              "      <td>0.00</td>\n",
              "      <td>0.11</td>\n",
              "    </tr>\n",
              "    <tr>\n",
              "      <th>BayesianRidge</th>\n",
              "      <td>1.00</td>\n",
              "      <td>1.00</td>\n",
              "      <td>0.00</td>\n",
              "      <td>0.03</td>\n",
              "    </tr>\n",
              "    <tr>\n",
              "      <th>OrthogonalMatchingPursuitCV</th>\n",
              "      <td>1.00</td>\n",
              "      <td>1.00</td>\n",
              "      <td>0.00</td>\n",
              "      <td>0.04</td>\n",
              "    </tr>\n",
              "    <tr>\n",
              "      <th>GaussianProcessRegressor</th>\n",
              "      <td>1.00</td>\n",
              "      <td>1.00</td>\n",
              "      <td>0.21</td>\n",
              "      <td>66.85</td>\n",
              "    </tr>\n",
              "    <tr>\n",
              "      <th>Lasso</th>\n",
              "      <td>1.00</td>\n",
              "      <td>1.00</td>\n",
              "      <td>1.65</td>\n",
              "      <td>0.02</td>\n",
              "    </tr>\n",
              "    <tr>\n",
              "      <th>RidgeCV</th>\n",
              "      <td>1.00</td>\n",
              "      <td>1.00</td>\n",
              "      <td>13.80</td>\n",
              "      <td>0.04</td>\n",
              "    </tr>\n",
              "    <tr>\n",
              "      <th>LassoLars</th>\n",
              "      <td>1.00</td>\n",
              "      <td>1.00</td>\n",
              "      <td>113.98</td>\n",
              "      <td>0.03</td>\n",
              "    </tr>\n",
              "    <tr>\n",
              "      <th>Ridge</th>\n",
              "      <td>1.00</td>\n",
              "      <td>1.00</td>\n",
              "      <td>137.96</td>\n",
              "      <td>0.02</td>\n",
              "    </tr>\n",
              "    <tr>\n",
              "      <th>SGDRegressor</th>\n",
              "      <td>1.00</td>\n",
              "      <td>1.00</td>\n",
              "      <td>159.01</td>\n",
              "      <td>0.04</td>\n",
              "    </tr>\n",
              "    <tr>\n",
              "      <th>XGBRegressor</th>\n",
              "      <td>1.00</td>\n",
              "      <td>1.00</td>\n",
              "      <td>409.57</td>\n",
              "      <td>0.75</td>\n",
              "    </tr>\n",
              "    <tr>\n",
              "      <th>LassoCV</th>\n",
              "      <td>1.00</td>\n",
              "      <td>1.00</td>\n",
              "      <td>1775.27</td>\n",
              "      <td>0.18</td>\n",
              "    </tr>\n",
              "    <tr>\n",
              "      <th>GradientBoostingRegressor</th>\n",
              "      <td>1.00</td>\n",
              "      <td>1.00</td>\n",
              "      <td>2260.02</td>\n",
              "      <td>1.25</td>\n",
              "    </tr>\n",
              "    <tr>\n",
              "      <th>BaggingRegressor</th>\n",
              "      <td>1.00</td>\n",
              "      <td>1.00</td>\n",
              "      <td>4532.67</td>\n",
              "      <td>0.46</td>\n",
              "    </tr>\n",
              "    <tr>\n",
              "      <th>RandomForestRegressor</th>\n",
              "      <td>1.00</td>\n",
              "      <td>1.00</td>\n",
              "      <td>6226.38</td>\n",
              "      <td>4.36</td>\n",
              "    </tr>\n",
              "    <tr>\n",
              "      <th>AdaBoostRegressor</th>\n",
              "      <td>1.00</td>\n",
              "      <td>1.00</td>\n",
              "      <td>62900.61</td>\n",
              "      <td>0.31</td>\n",
              "    </tr>\n",
              "    <tr>\n",
              "      <th>KNeighborsRegressor</th>\n",
              "      <td>1.00</td>\n",
              "      <td>1.00</td>\n",
              "      <td>67171.44</td>\n",
              "      <td>0.28</td>\n",
              "    </tr>\n",
              "    <tr>\n",
              "      <th>KernelRidge</th>\n",
              "      <td>0.99</td>\n",
              "      <td>0.99</td>\n",
              "      <td>149224.95</td>\n",
              "      <td>33.95</td>\n",
              "    </tr>\n",
              "    <tr>\n",
              "      <th>LGBMRegressor</th>\n",
              "      <td>0.91</td>\n",
              "      <td>0.91</td>\n",
              "      <td>517904.11</td>\n",
              "      <td>0.21</td>\n",
              "    </tr>\n",
              "    <tr>\n",
              "      <th>ElasticNet</th>\n",
              "      <td>0.89</td>\n",
              "      <td>0.89</td>\n",
              "      <td>591806.54</td>\n",
              "      <td>0.02</td>\n",
              "    </tr>\n",
              "    <tr>\n",
              "      <th>HistGradientBoostingRegressor</th>\n",
              "      <td>0.87</td>\n",
              "      <td>0.87</td>\n",
              "      <td>631490.53</td>\n",
              "      <td>0.29</td>\n",
              "    </tr>\n",
              "    <tr>\n",
              "      <th>PoissonRegressor</th>\n",
              "      <td>0.84</td>\n",
              "      <td>0.84</td>\n",
              "      <td>715350.68</td>\n",
              "      <td>0.12</td>\n",
              "    </tr>\n",
              "    <tr>\n",
              "      <th>PassiveAggressiveRegressor</th>\n",
              "      <td>0.83</td>\n",
              "      <td>0.83</td>\n",
              "      <td>733798.22</td>\n",
              "      <td>0.83</td>\n",
              "    </tr>\n",
              "    <tr>\n",
              "      <th>GeneralizedLinearRegressor</th>\n",
              "      <td>0.75</td>\n",
              "      <td>0.75</td>\n",
              "      <td>885521.55</td>\n",
              "      <td>0.03</td>\n",
              "    </tr>\n",
              "    <tr>\n",
              "      <th>TweedieRegressor</th>\n",
              "      <td>0.75</td>\n",
              "      <td>0.75</td>\n",
              "      <td>885521.55</td>\n",
              "      <td>0.03</td>\n",
              "    </tr>\n",
              "    <tr>\n",
              "      <th>GammaRegressor</th>\n",
              "      <td>0.56</td>\n",
              "      <td>0.56</td>\n",
              "      <td>1178886.86</td>\n",
              "      <td>0.05</td>\n",
              "    </tr>\n",
              "    <tr>\n",
              "      <th>MLPRegressor</th>\n",
              "      <td>0.00</td>\n",
              "      <td>0.00</td>\n",
              "      <td>1771698.71</td>\n",
              "      <td>11.83</td>\n",
              "    </tr>\n",
              "    <tr>\n",
              "      <th>ElasticNetCV</th>\n",
              "      <td>0.00</td>\n",
              "      <td>0.00</td>\n",
              "      <td>1774255.86</td>\n",
              "      <td>0.19</td>\n",
              "    </tr>\n",
              "    <tr>\n",
              "      <th>DummyRegressor</th>\n",
              "      <td>-0.00</td>\n",
              "      <td>0.00</td>\n",
              "      <td>1775274.86</td>\n",
              "      <td>0.02</td>\n",
              "    </tr>\n",
              "    <tr>\n",
              "      <th>LinearSVR</th>\n",
              "      <td>-0.01</td>\n",
              "      <td>-0.01</td>\n",
              "      <td>1779995.99</td>\n",
              "      <td>0.03</td>\n",
              "    </tr>\n",
              "    <tr>\n",
              "      <th>NuSVR</th>\n",
              "      <td>-0.01</td>\n",
              "      <td>-0.01</td>\n",
              "      <td>1780292.45</td>\n",
              "      <td>13.64</td>\n",
              "    </tr>\n",
              "    <tr>\n",
              "      <th>SVR</th>\n",
              "      <td>-0.01</td>\n",
              "      <td>-0.01</td>\n",
              "      <td>1781057.14</td>\n",
              "      <td>16.88</td>\n",
              "    </tr>\n",
              "  </tbody>\n",
              "</table>\n",
              "</div>"
            ],
            "text/plain": [
              "                               Adjusted R-Squared  ...  Time Taken\n",
              "Model                                              ...            \n",
              "LinearRegression                             1.00  ...        0.03\n",
              "ExtraTreeRegressor                           1.00  ...        0.05\n",
              "RANSACRegressor                              1.00  ...        0.03\n",
              "HuberRegressor                               1.00  ...        0.43\n",
              "LarsCV                                       1.00  ...        0.04\n",
              "OrthogonalMatchingPursuit                    1.00  ...        0.02\n",
              "Lars                                         1.00  ...        0.03\n",
              "ExtraTreesRegressor                          1.00  ...        2.51\n",
              "LassoLarsCV                                  1.00  ...        0.04\n",
              "TransformedTargetRegressor                   1.00  ...        0.02\n",
              "LassoLarsIC                                  1.00  ...        0.03\n",
              "DecisionTreeRegressor                        1.00  ...        0.11\n",
              "BayesianRidge                                1.00  ...        0.03\n",
              "OrthogonalMatchingPursuitCV                  1.00  ...        0.04\n",
              "GaussianProcessRegressor                     1.00  ...       66.85\n",
              "Lasso                                        1.00  ...        0.02\n",
              "RidgeCV                                      1.00  ...        0.04\n",
              "LassoLars                                    1.00  ...        0.03\n",
              "Ridge                                        1.00  ...        0.02\n",
              "SGDRegressor                                 1.00  ...        0.04\n",
              "XGBRegressor                                 1.00  ...        0.75\n",
              "LassoCV                                      1.00  ...        0.18\n",
              "GradientBoostingRegressor                    1.00  ...        1.25\n",
              "BaggingRegressor                             1.00  ...        0.46\n",
              "RandomForestRegressor                        1.00  ...        4.36\n",
              "AdaBoostRegressor                            1.00  ...        0.31\n",
              "KNeighborsRegressor                          1.00  ...        0.28\n",
              "KernelRidge                                  0.99  ...       33.95\n",
              "LGBMRegressor                                0.91  ...        0.21\n",
              "ElasticNet                                   0.89  ...        0.02\n",
              "HistGradientBoostingRegressor                0.87  ...        0.29\n",
              "PoissonRegressor                             0.84  ...        0.12\n",
              "PassiveAggressiveRegressor                   0.83  ...        0.83\n",
              "GeneralizedLinearRegressor                   0.75  ...        0.03\n",
              "TweedieRegressor                             0.75  ...        0.03\n",
              "GammaRegressor                               0.56  ...        0.05\n",
              "MLPRegressor                                 0.00  ...       11.83\n",
              "ElasticNetCV                                 0.00  ...        0.19\n",
              "DummyRegressor                              -0.00  ...        0.02\n",
              "LinearSVR                                   -0.01  ...        0.03\n",
              "NuSVR                                       -0.01  ...       13.64\n",
              "SVR                                         -0.01  ...       16.88\n",
              "\n",
              "[42 rows x 4 columns]"
            ]
          },
          "metadata": {
            "tags": []
          },
          "execution_count": 37
        }
      ]
    },
    {
      "cell_type": "code",
      "metadata": {
        "colab": {
          "base_uri": "https://localhost:8080/"
        },
        "id": "-ucGGARhJ44u",
        "outputId": "8aa63ea9-761c-4563-c782-be512a89ff95"
      },
      "source": [
        "# Model from original X-Y pairs\r\n",
        "from sklearn.model_selection import train_test_split\r\n",
        "from sklearn.linear_model import LinearRegression\r\n",
        "from sklearn.metrics import r2_score\r\n",
        "\r\n",
        "# Luciano code\r\n",
        "from sklearn.metrics import accuracy_score\r\n",
        "\r\n",
        "# Data set\r\n",
        "# X = dataset.drop(['logS'], axis=1)\r\n",
        "# Y = dataset.iloc[:,-1]\r\n",
        "\r\n",
        "# Data split\r\n",
        "X_train, X_test, Y_train, Y_test = train_test_split(X, Y, test_size=0.2, random_state=0)\r\n",
        "\r\n",
        "# Y-Shuffling\r\n",
        "\r\n",
        "\r\n",
        "# Model building\r\n",
        "model = LinearRegression()\r\n",
        "model.fit(X_train, Y_train)\r\n",
        "# Make prediction\r\n",
        "Y_train_pred = model.predict(X_train)\r\n",
        "# Compute R2 score\r\n",
        "r2a = r2_score(Y_train, Y_train_pred)\r\n",
        "\r\n",
        "# Print R2 score\r\n",
        "print('R² = %s' % r2a.round(2))\r\n",
        "\r\n",
        "# asd = accuracy_score(Y_train, Y_train_pred)\r\n",
        "# print('Accuracy = %s' % ac_score.round(2))\r\n",
        "\r\n",
        "\r\n"
      ],
      "execution_count": 43,
      "outputs": [
        {
          "output_type": "stream",
          "text": [
            "R² = 1.0\n"
          ],
          "name": "stdout"
        }
      ]
    },
    {
      "cell_type": "code",
      "metadata": {
        "colab": {
          "base_uri": "https://localhost:8080/",
          "height": 367
        },
        "id": "poEJi8HXJoWv",
        "outputId": "a435f882-d7ab-40d9-a0e4-e90e0adfc023"
      },
      "source": [
        "# Plot of predicted vs actual\r\n",
        "import matplotlib.pyplot as plt\r\n",
        "import numpy as np\r\n",
        "\r\n",
        "plt.figure(figsize=(5,5))\r\n",
        "plt.scatter(x=Y_train, y=Y_train_pred, c=\"#7CAE00\", alpha=0.3)\r\n",
        "\r\n",
        "# Add trendline\r\n",
        "# https://stackoverflow.com/questions/26447191/how-to-add-trendline-in-python-matplotlib-dot-scatter-graphs\r\n",
        "z = np.polyfit(Y_train, Y_train_pred, 1)\r\n",
        "p = np.poly1d(z)\r\n",
        "\r\n",
        "plt.plot(Y,p(Y),\"#F8766D\")\r\n",
        "plt.ylabel('Predicted Consumption')\r\n",
        "plt.xlabel('Consumption')\r\n"
      ],
      "execution_count": 44,
      "outputs": [
        {
          "output_type": "execute_result",
          "data": {
            "text/plain": [
              "Text(0.5, 0, 'Consumption')"
            ]
          },
          "metadata": {
            "tags": []
          },
          "execution_count": 44
        },
        {
          "output_type": "display_data",
          "data": {
            "image/png": "[encoded data removed]",
            "text/plain": [
              "<Figure size 360x360 with 1 Axes>"
            ]
          },
          "metadata": {
            "tags": []
          }
        }
      ]
    },
    {
      "cell_type": "code",
      "metadata": {
        "colab": {
          "base_uri": "https://localhost:8080/",
          "height": 80
        },
        "id": "8Syar-CQI2oz",
        "outputId": "131e1ee8-2331-4f95-b0f5-cb09a9b39376"
      },
      "source": [
        "models_test"
      ],
      "execution_count": 38,
      "outputs": [
        {
          "output_type": "execute_result",
          "data": {
            "text/html": [
              "<div>\n",
              "<style scoped>\n",
              "    .dataframe tbody tr th:only-of-type {\n",
              "        vertical-align: middle;\n",
              "    }\n",
              "\n",
              "    .dataframe tbody tr th {\n",
              "        vertical-align: top;\n",
              "    }\n",
              "\n",
              "    .dataframe thead th {\n",
              "        text-align: right;\n",
              "    }\n",
              "</style>\n",
              "<table border=\"1\" class=\"dataframe\">\n",
              "  <thead>\n",
              "    <tr style=\"text-align: right;\">\n",
              "      <th></th>\n",
              "      <th>Adjusted R-Squared</th>\n",
              "      <th>R-Squared</th>\n",
              "      <th>RMSE</th>\n",
              "      <th>Time Taken</th>\n",
              "    </tr>\n",
              "    <tr>\n",
              "      <th>Model</th>\n",
              "      <th></th>\n",
              "      <th></th>\n",
              "      <th></th>\n",
              "      <th></th>\n",
              "    </tr>\n",
              "  </thead>\n",
              "  <tbody>\n",
              "  </tbody>\n",
              "</table>\n",
              "</div>"
            ],
            "text/plain": [
              "Empty DataFrame\n",
              "Columns: [Adjusted R-Squared, R-Squared, RMSE, Time Taken]\n",
              "Index: []"
            ]
          },
          "metadata": {
            "tags": []
          },
          "execution_count": 38
        }
      ]
    },
    {
      "cell_type": "code",
      "metadata": {
        "colab": {
          "base_uri": "https://localhost:8080/"
        },
        "id": "Zo2ihKhpI6Yk",
        "outputId": "efb63b39-8355-4ed9-9e25-11ce4549a7a3"
      },
      "source": [
        "[0 if i < 0 else i for i in models_train.iloc[:,0] ]"
      ],
      "execution_count": 39,
      "outputs": [
        {
          "output_type": "execute_result",
          "data": {
            "text/plain": [
              "[1.0,\n",
              " 1.0,\n",
              " 1.0,\n",
              " 1.0,\n",
              " 1.0,\n",
              " 1.0,\n",
              " 1.0,\n",
              " 1.0,\n",
              " 1.0,\n",
              " 1.0,\n",
              " 1.0,\n",
              " 1.0,\n",
              " 1.0,\n",
              " 1.0,\n",
              " 0.999999999999986,\n",
              " 0.9999999999991347,\n",
              " 0.9999999999395829,\n",
              " 0.9999999958766982,\n",
              " 0.999999993959267,\n",
              " 0.999999991975079,\n",
              " 0.999999946757382,\n",
              " 0.9999989996919759,\n",
              " 0.9999983788318281,\n",
              " 0.9999934790577821,\n",
              " 0.9999876952081357,\n",
              " 0.9987442236361731,\n",
              " 0.9985679047155243,\n",
              " 0.9929321809528618,\n",
              " 0.9148663483342081,\n",
              " 0.8888365380752863,\n",
              " 0.873428413212902,\n",
              " 0.8375796172236577,\n",
              " 0.8290945746195298,\n",
              " 0.7511137987455361,\n",
              " 0.7511137987455361,\n",
              " 0.5588901072674803,\n",
              " 0.003717999021508267,\n",
              " 0.0008399970446653082,\n",
              " 0,\n",
              " 0,\n",
              " 0,\n",
              " 0]"
            ]
          },
          "metadata": {
            "tags": []
          },
          "execution_count": 39
        }
      ]
    },
    {
      "cell_type": "code",
      "metadata": {
        "colab": {
          "base_uri": "https://localhost:8080/",
          "height": 574
        },
        "id": "myg4FBJgI9cK",
        "outputId": "e9637dc9-5684-478c-e8fa-075756f82f9d"
      },
      "source": [
        "import matplotlib.pyplot as plt\r\n",
        "import seaborn as sns\r\n",
        "\r\n",
        "#train[\"R-Squared\"] = [0 if i < 0 else i for i in train.iloc[:,0] ]\r\n",
        "\r\n",
        "plt.figure(figsize=(10, 5))\r\n",
        "sns.set_theme(style=\"whitegrid\")\r\n",
        "ax = sns.barplot(x=models_train.index, y=\"R-Squared\", data=models_train)\r\n",
        "ax.set(ylim=(0, 1))\r\n",
        "plt.xticks(rotation=90)"
      ],
      "execution_count": 40,
      "outputs": [
        {
          "output_type": "execute_result",
          "data": {
            "text/plain": [
              "(array([ 0,  1,  2,  3,  4,  5,  6,  7,  8,  9, 10, 11, 12, 13, 14, 15, 16,\n",
              "        17, 18, 19, 20, 21, 22, 23, 24, 25, 26, 27, 28, 29, 30, 31, 32, 33,\n",
              "        34, 35, 36, 37, 38, 39, 40, 41]),\n",
              " <a list of 42 Text major ticklabel objects>)"
            ]
          },
          "metadata": {
            "tags": []
          },
          "execution_count": 40
        },
        {
          "output_type": "display_data",
          "data": {
            "image/png": "[encoded data removed]",
            "text/plain": [
              "<Figure size 720x360 with 1 Axes>"
            ]
          },
          "metadata": {
            "tags": [],
            "needs_background": "light"
          }
        }
      ]
    },
    {
      "cell_type": "code",
      "metadata": {
        "colab": {
          "base_uri": "https://localhost:8080/",
          "height": 628
        },
        "id": "LkkqgGJzJGq6",
        "outputId": "73a91d86-07e8-4c60-8119-00477c010bb6"
      },
      "source": [
        "import matplotlib.pyplot as plt\r\n",
        "import seaborn as sns\r\n",
        "\r\n",
        "models_train[\"R-Squared\"] = [0 if i < 0 else i for i in models_train.iloc[:,0] ]\r\n",
        "\r\n",
        "plt.figure(figsize=(5, 10))\r\n",
        "sns.set_theme(style=\"whitegrid\")\r\n",
        "ax = sns.barplot(y=models_train.index, x=\"R-Squared\", data=models_train)\r\n",
        "ax.set(xlim=(0, 1))"
      ],
      "execution_count": 41,
      "outputs": [
        {
          "output_type": "execute_result",
          "data": {
            "text/plain": [
              "[(0.0, 1.0)]"
            ]
          },
          "metadata": {
            "tags": []
          },
          "execution_count": 41
        },
        {
          "output_type": "display_data",
          "data": {
            "image/png": "[encoded data removed]",
            "text/plain": [
              "<Figure size 360x720 with 1 Axes>"
            ]
          },
          "metadata": {
            "tags": []
          }
        }
      ]
    },
    {
      "cell_type": "markdown",
      "metadata": {
        "id": "yFLXSr63xZtZ"
      },
      "source": [
        "## 4. Analysis of Model Performance"
      ]
    },
    {
      "cell_type": "markdown",
      "metadata": {
        "id": "mgZaRNdjxZtb"
      },
      "source": [
        "### 4.1. Import library"
      ]
    },
    {
      "cell_type": "markdown",
      "metadata": {
        "id": "hj3n19lzxZtf"
      },
      "source": [
        "### 4.2. Create data frame of *model performance*"
      ]
    },
    {
      "cell_type": "markdown",
      "metadata": {
        "id": "J7dwMODBxZti"
      },
      "source": [
        "### 4.3. Adding colors to the data frame"
      ]
    },
    {
      "cell_type": "markdown",
      "metadata": {
        "id": "7AVMDXysxZtm"
      },
      "source": [
        "### 4.4. Bar plot of model performance"
      ]
    },
    {
      "cell_type": "markdown",
      "metadata": {
        "id": "5vLufoXhxZtp"
      },
      "source": [
        "---"
      ]
    }
  ]
}